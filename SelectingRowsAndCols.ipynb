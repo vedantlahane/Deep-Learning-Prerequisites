{
 "cells": [
  {
   "cell_type": "code",
   "execution_count": 1,
   "id": "3b7010e1",
   "metadata": {},
   "outputs": [],
   "source": [
    "import pandas as pd"
   ]
  },
  {
   "cell_type": "code",
   "execution_count": 2,
   "id": "7e6760c6",
   "metadata": {},
   "outputs": [],
   "source": [
    "df = pd.read_csv('sbux.csv')\n"
   ]
  },
  {
   "cell_type": "code",
   "execution_count": 3,
   "id": "a2dbb4d4",
   "metadata": {},
   "outputs": [
    {
     "data": {
      "text/plain": [
       "Index(['date', 'open', 'high', 'low', 'close', 'volume', 'Name'], dtype='object')"
      ]
     },
     "execution_count": 3,
     "metadata": {},
     "output_type": "execute_result"
    }
   ],
   "source": [
    "df.columns"
   ]
  },
  {
   "cell_type": "code",
   "execution_count": 7,
   "id": "f1d1c367",
   "metadata": {},
   "outputs": [],
   "source": [
    "df.columns = ['Date', 'Open', 'High', 'Low', 'Close', 'Volume','Name']"
   ]
  },
  {
   "cell_type": "code",
   "execution_count": 8,
   "id": "628215d6",
   "metadata": {},
   "outputs": [
    {
     "data": {
      "text/html": [
       "<div>\n",
       "<style scoped>\n",
       "    .dataframe tbody tr th:only-of-type {\n",
       "        vertical-align: middle;\n",
       "    }\n",
       "\n",
       "    .dataframe tbody tr th {\n",
       "        vertical-align: top;\n",
       "    }\n",
       "\n",
       "    .dataframe thead th {\n",
       "        text-align: right;\n",
       "    }\n",
       "</style>\n",
       "<table border=\"1\" class=\"dataframe\">\n",
       "  <thead>\n",
       "    <tr style=\"text-align: right;\">\n",
       "      <th></th>\n",
       "      <th>Date</th>\n",
       "      <th>Open</th>\n",
       "      <th>High</th>\n",
       "      <th>Low</th>\n",
       "      <th>Close</th>\n",
       "      <th>Volume</th>\n",
       "      <th>Name</th>\n",
       "    </tr>\n",
       "  </thead>\n",
       "  <tbody>\n",
       "    <tr>\n",
       "      <th>0</th>\n",
       "      <td>2013-02-08</td>\n",
       "      <td>27.920</td>\n",
       "      <td>28.325</td>\n",
       "      <td>27.920</td>\n",
       "      <td>28.185</td>\n",
       "      <td>7146296</td>\n",
       "      <td>SBUX</td>\n",
       "    </tr>\n",
       "    <tr>\n",
       "      <th>1</th>\n",
       "      <td>2013-02-11</td>\n",
       "      <td>28.260</td>\n",
       "      <td>28.260</td>\n",
       "      <td>27.930</td>\n",
       "      <td>28.070</td>\n",
       "      <td>5457354</td>\n",
       "      <td>SBUX</td>\n",
       "    </tr>\n",
       "    <tr>\n",
       "      <th>2</th>\n",
       "      <td>2013-02-12</td>\n",
       "      <td>28.000</td>\n",
       "      <td>28.275</td>\n",
       "      <td>27.975</td>\n",
       "      <td>28.130</td>\n",
       "      <td>8665592</td>\n",
       "      <td>SBUX</td>\n",
       "    </tr>\n",
       "    <tr>\n",
       "      <th>3</th>\n",
       "      <td>2013-02-13</td>\n",
       "      <td>28.230</td>\n",
       "      <td>28.230</td>\n",
       "      <td>27.750</td>\n",
       "      <td>27.915</td>\n",
       "      <td>7022056</td>\n",
       "      <td>SBUX</td>\n",
       "    </tr>\n",
       "    <tr>\n",
       "      <th>4</th>\n",
       "      <td>2013-02-14</td>\n",
       "      <td>27.765</td>\n",
       "      <td>27.905</td>\n",
       "      <td>27.675</td>\n",
       "      <td>27.775</td>\n",
       "      <td>8899188</td>\n",
       "      <td>SBUX</td>\n",
       "    </tr>\n",
       "  </tbody>\n",
       "</table>\n",
       "</div>"
      ],
      "text/plain": [
       "         Date    Open    High     Low   Close   Volume  Name\n",
       "0  2013-02-08  27.920  28.325  27.920  28.185  7146296  SBUX\n",
       "1  2013-02-11  28.260  28.260  27.930  28.070  5457354  SBUX\n",
       "2  2013-02-12  28.000  28.275  27.975  28.130  8665592  SBUX\n",
       "3  2013-02-13  28.230  28.230  27.750  27.915  7022056  SBUX\n",
       "4  2013-02-14  27.765  27.905  27.675  27.775  8899188  SBUX"
      ]
     },
     "execution_count": 8,
     "metadata": {},
     "output_type": "execute_result"
    }
   ],
   "source": [
    "df.head()"
   ]
  },
  {
   "cell_type": "code",
   "execution_count": 9,
   "id": "076aa258",
   "metadata": {},
   "outputs": [
    {
     "data": {
      "text/plain": [
       "0       27.920\n",
       "1       28.260\n",
       "2       28.000\n",
       "3       28.230\n",
       "4       27.765\n",
       "         ...  \n",
       "1254    56.280\n",
       "1255    55.900\n",
       "1256    55.530\n",
       "1257    53.685\n",
       "1258    55.080\n",
       "Name: Open, Length: 1259, dtype: float64"
      ]
     },
     "execution_count": 9,
     "metadata": {},
     "output_type": "execute_result"
    }
   ],
   "source": [
    "df['Open']"
   ]
  },
  {
   "cell_type": "code",
   "execution_count": 11,
   "id": "cbd4b678",
   "metadata": {},
   "outputs": [
    {
     "data": {
      "text/html": [
       "<div>\n",
       "<style scoped>\n",
       "    .dataframe tbody tr th:only-of-type {\n",
       "        vertical-align: middle;\n",
       "    }\n",
       "\n",
       "    .dataframe tbody tr th {\n",
       "        vertical-align: top;\n",
       "    }\n",
       "\n",
       "    .dataframe thead th {\n",
       "        text-align: right;\n",
       "    }\n",
       "</style>\n",
       "<table border=\"1\" class=\"dataframe\">\n",
       "  <thead>\n",
       "    <tr style=\"text-align: right;\">\n",
       "      <th></th>\n",
       "      <th>Open</th>\n",
       "      <th>Volume</th>\n",
       "    </tr>\n",
       "  </thead>\n",
       "  <tbody>\n",
       "    <tr>\n",
       "      <th>0</th>\n",
       "      <td>27.920</td>\n",
       "      <td>7146296</td>\n",
       "    </tr>\n",
       "    <tr>\n",
       "      <th>1</th>\n",
       "      <td>28.260</td>\n",
       "      <td>5457354</td>\n",
       "    </tr>\n",
       "    <tr>\n",
       "      <th>2</th>\n",
       "      <td>28.000</td>\n",
       "      <td>8665592</td>\n",
       "    </tr>\n",
       "    <tr>\n",
       "      <th>3</th>\n",
       "      <td>28.230</td>\n",
       "      <td>7022056</td>\n",
       "    </tr>\n",
       "    <tr>\n",
       "      <th>4</th>\n",
       "      <td>27.765</td>\n",
       "      <td>8899188</td>\n",
       "    </tr>\n",
       "    <tr>\n",
       "      <th>...</th>\n",
       "      <td>...</td>\n",
       "      <td>...</td>\n",
       "    </tr>\n",
       "    <tr>\n",
       "      <th>1254</th>\n",
       "      <td>56.280</td>\n",
       "      <td>14690146</td>\n",
       "    </tr>\n",
       "    <tr>\n",
       "      <th>1255</th>\n",
       "      <td>55.900</td>\n",
       "      <td>15358909</td>\n",
       "    </tr>\n",
       "    <tr>\n",
       "      <th>1256</th>\n",
       "      <td>55.530</td>\n",
       "      <td>16059955</td>\n",
       "    </tr>\n",
       "    <tr>\n",
       "      <th>1257</th>\n",
       "      <td>53.685</td>\n",
       "      <td>17415065</td>\n",
       "    </tr>\n",
       "    <tr>\n",
       "      <th>1258</th>\n",
       "      <td>55.080</td>\n",
       "      <td>13927022</td>\n",
       "    </tr>\n",
       "  </tbody>\n",
       "</table>\n",
       "<p>1259 rows × 2 columns</p>\n",
       "</div>"
      ],
      "text/plain": [
       "        Open    Volume\n",
       "0     27.920   7146296\n",
       "1     28.260   5457354\n",
       "2     28.000   8665592\n",
       "3     28.230   7022056\n",
       "4     27.765   8899188\n",
       "...      ...       ...\n",
       "1254  56.280  14690146\n",
       "1255  55.900  15358909\n",
       "1256  55.530  16059955\n",
       "1257  53.685  17415065\n",
       "1258  55.080  13927022\n",
       "\n",
       "[1259 rows x 2 columns]"
      ]
     },
     "execution_count": 11,
     "metadata": {},
     "output_type": "execute_result"
    }
   ],
   "source": [
    "df[['Open','Volume']]"
   ]
  },
  {
   "cell_type": "code",
   "execution_count": 12,
   "id": "033e1799",
   "metadata": {},
   "outputs": [
    {
     "data": {
      "text/plain": [
       "pandas.core.frame.DataFrame"
      ]
     },
     "execution_count": 12,
     "metadata": {},
     "output_type": "execute_result"
    }
   ],
   "source": [
    "type(df[['Open','Volume']])"
   ]
  },
  {
   "cell_type": "code",
   "execution_count": 13,
   "id": "3b419749",
   "metadata": {},
   "outputs": [
    {
     "data": {
      "text/plain": [
       "Date      2013-02-08\n",
       "Open           27.92\n",
       "High          28.325\n",
       "Low            27.92\n",
       "Close         28.185\n",
       "Volume       7146296\n",
       "Name            SBUX\n",
       "Name: 0, dtype: object"
      ]
     },
     "execution_count": 13,
     "metadata": {},
     "output_type": "execute_result"
    }
   ],
   "source": [
    "df.iloc[0]"
   ]
  },
  {
   "cell_type": "code",
   "execution_count": 14,
   "id": "b8429e60",
   "metadata": {},
   "outputs": [
    {
     "data": {
      "text/plain": [
       "Date      2013-02-08\n",
       "Open           27.92\n",
       "High          28.325\n",
       "Low            27.92\n",
       "Close         28.185\n",
       "Volume       7146296\n",
       "Name            SBUX\n",
       "Name: 0, dtype: object"
      ]
     },
     "execution_count": 14,
     "metadata": {},
     "output_type": "execute_result"
    }
   ],
   "source": [
    "df.loc[0]"
   ]
  },
  {
   "cell_type": "code",
   "execution_count": 17,
   "id": "52391151",
   "metadata": {},
   "outputs": [],
   "source": [
    "df2 = pd.read_csv('sbux.csv', index_col='date')"
   ]
  },
  {
   "cell_type": "code",
   "execution_count": 18,
   "id": "0be76c9a",
   "metadata": {},
   "outputs": [
    {
     "data": {
      "text/html": [
       "<div>\n",
       "<style scoped>\n",
       "    .dataframe tbody tr th:only-of-type {\n",
       "        vertical-align: middle;\n",
       "    }\n",
       "\n",
       "    .dataframe tbody tr th {\n",
       "        vertical-align: top;\n",
       "    }\n",
       "\n",
       "    .dataframe thead th {\n",
       "        text-align: right;\n",
       "    }\n",
       "</style>\n",
       "<table border=\"1\" class=\"dataframe\">\n",
       "  <thead>\n",
       "    <tr style=\"text-align: right;\">\n",
       "      <th></th>\n",
       "      <th>open</th>\n",
       "      <th>high</th>\n",
       "      <th>low</th>\n",
       "      <th>close</th>\n",
       "      <th>volume</th>\n",
       "      <th>Name</th>\n",
       "    </tr>\n",
       "    <tr>\n",
       "      <th>date</th>\n",
       "      <th></th>\n",
       "      <th></th>\n",
       "      <th></th>\n",
       "      <th></th>\n",
       "      <th></th>\n",
       "      <th></th>\n",
       "    </tr>\n",
       "  </thead>\n",
       "  <tbody>\n",
       "    <tr>\n",
       "      <th>2013-02-08</th>\n",
       "      <td>27.920</td>\n",
       "      <td>28.325</td>\n",
       "      <td>27.920</td>\n",
       "      <td>28.185</td>\n",
       "      <td>7146296</td>\n",
       "      <td>SBUX</td>\n",
       "    </tr>\n",
       "    <tr>\n",
       "      <th>2013-02-11</th>\n",
       "      <td>28.260</td>\n",
       "      <td>28.260</td>\n",
       "      <td>27.930</td>\n",
       "      <td>28.070</td>\n",
       "      <td>5457354</td>\n",
       "      <td>SBUX</td>\n",
       "    </tr>\n",
       "    <tr>\n",
       "      <th>2013-02-12</th>\n",
       "      <td>28.000</td>\n",
       "      <td>28.275</td>\n",
       "      <td>27.975</td>\n",
       "      <td>28.130</td>\n",
       "      <td>8665592</td>\n",
       "      <td>SBUX</td>\n",
       "    </tr>\n",
       "    <tr>\n",
       "      <th>2013-02-13</th>\n",
       "      <td>28.230</td>\n",
       "      <td>28.230</td>\n",
       "      <td>27.750</td>\n",
       "      <td>27.915</td>\n",
       "      <td>7022056</td>\n",
       "      <td>SBUX</td>\n",
       "    </tr>\n",
       "    <tr>\n",
       "      <th>2013-02-14</th>\n",
       "      <td>27.765</td>\n",
       "      <td>27.905</td>\n",
       "      <td>27.675</td>\n",
       "      <td>27.775</td>\n",
       "      <td>8899188</td>\n",
       "      <td>SBUX</td>\n",
       "    </tr>\n",
       "  </tbody>\n",
       "</table>\n",
       "</div>"
      ],
      "text/plain": [
       "              open    high     low   close   volume  Name\n",
       "date                                                     \n",
       "2013-02-08  27.920  28.325  27.920  28.185  7146296  SBUX\n",
       "2013-02-11  28.260  28.260  27.930  28.070  5457354  SBUX\n",
       "2013-02-12  28.000  28.275  27.975  28.130  8665592  SBUX\n",
       "2013-02-13  28.230  28.230  27.750  27.915  7022056  SBUX\n",
       "2013-02-14  27.765  27.905  27.675  27.775  8899188  SBUX"
      ]
     },
     "execution_count": 18,
     "metadata": {},
     "output_type": "execute_result"
    }
   ],
   "source": [
    "df2.head()"
   ]
  },
  {
   "cell_type": "code",
   "execution_count": 20,
   "id": "772239e3",
   "metadata": {},
   "outputs": [
    {
     "data": {
      "text/plain": [
       "open        28.23\n",
       "high        28.23\n",
       "low         27.75\n",
       "close      27.915\n",
       "volume    7022056\n",
       "Name         SBUX\n",
       "Name: 2013-02-13, dtype: object"
      ]
     },
     "execution_count": 20,
     "metadata": {},
     "output_type": "execute_result"
    }
   ],
   "source": [
    "df2.loc['2013-02-13']"
   ]
  },
  {
   "cell_type": "code",
   "execution_count": 21,
   "id": "5655fddf",
   "metadata": {},
   "outputs": [
    {
     "data": {
      "text/plain": [
       "pandas.core.series.Series"
      ]
     },
     "execution_count": 21,
     "metadata": {},
     "output_type": "execute_result"
    }
   ],
   "source": [
    "type(df2.loc['2013-02-13'])"
   ]
  },
  {
   "cell_type": "code",
   "execution_count": 23,
   "id": "7882a21e",
   "metadata": {},
   "outputs": [
    {
     "data": {
      "text/html": [
       "<div>\n",
       "<style scoped>\n",
       "    .dataframe tbody tr th:only-of-type {\n",
       "        vertical-align: middle;\n",
       "    }\n",
       "\n",
       "    .dataframe tbody tr th {\n",
       "        vertical-align: top;\n",
       "    }\n",
       "\n",
       "    .dataframe thead th {\n",
       "        text-align: right;\n",
       "    }\n",
       "</style>\n",
       "<table border=\"1\" class=\"dataframe\">\n",
       "  <thead>\n",
       "    <tr style=\"text-align: right;\">\n",
       "      <th></th>\n",
       "      <th>Date</th>\n",
       "      <th>Open</th>\n",
       "      <th>High</th>\n",
       "      <th>Low</th>\n",
       "      <th>Close</th>\n",
       "      <th>Volume</th>\n",
       "      <th>Name</th>\n",
       "    </tr>\n",
       "  </thead>\n",
       "  <tbody>\n",
       "    <tr>\n",
       "      <th>1087</th>\n",
       "      <td>2017-06-05</td>\n",
       "      <td>64.85</td>\n",
       "      <td>64.870</td>\n",
       "      <td>64.18</td>\n",
       "      <td>64.27</td>\n",
       "      <td>6809284</td>\n",
       "      <td>SBUX</td>\n",
       "    </tr>\n",
       "    <tr>\n",
       "      <th>1088</th>\n",
       "      <td>2017-06-06</td>\n",
       "      <td>64.22</td>\n",
       "      <td>64.350</td>\n",
       "      <td>64.05</td>\n",
       "      <td>64.16</td>\n",
       "      <td>5448439</td>\n",
       "      <td>SBUX</td>\n",
       "    </tr>\n",
       "    <tr>\n",
       "      <th>1089</th>\n",
       "      <td>2017-06-07</td>\n",
       "      <td>64.13</td>\n",
       "      <td>64.295</td>\n",
       "      <td>63.34</td>\n",
       "      <td>63.50</td>\n",
       "      <td>8364994</td>\n",
       "      <td>SBUX</td>\n",
       "    </tr>\n",
       "  </tbody>\n",
       "</table>\n",
       "</div>"
      ],
      "text/plain": [
       "            Date   Open    High    Low  Close   Volume  Name\n",
       "1087  2017-06-05  64.85  64.870  64.18  64.27  6809284  SBUX\n",
       "1088  2017-06-06  64.22  64.350  64.05  64.16  5448439  SBUX\n",
       "1089  2017-06-07  64.13  64.295  63.34  63.50  8364994  SBUX"
      ]
     },
     "execution_count": 23,
     "metadata": {},
     "output_type": "execute_result"
    }
   ],
   "source": [
    "df[df['Open'] > 64]"
   ]
  },
  {
   "cell_type": "code",
   "execution_count": 26,
   "id": "364c460b",
   "metadata": {},
   "outputs": [
    {
     "data": {
      "text/html": [
       "<div>\n",
       "<style scoped>\n",
       "    .dataframe tbody tr th:only-of-type {\n",
       "        vertical-align: middle;\n",
       "    }\n",
       "\n",
       "    .dataframe tbody tr th {\n",
       "        vertical-align: top;\n",
       "    }\n",
       "\n",
       "    .dataframe thead th {\n",
       "        text-align: right;\n",
       "    }\n",
       "</style>\n",
       "<table border=\"1\" class=\"dataframe\">\n",
       "  <thead>\n",
       "    <tr style=\"text-align: right;\">\n",
       "      <th></th>\n",
       "      <th>Date</th>\n",
       "      <th>Open</th>\n",
       "      <th>High</th>\n",
       "      <th>Low</th>\n",
       "      <th>Close</th>\n",
       "      <th>Volume</th>\n",
       "      <th>Name</th>\n",
       "    </tr>\n",
       "  </thead>\n",
       "  <tbody>\n",
       "  </tbody>\n",
       "</table>\n",
       "</div>"
      ],
      "text/plain": [
       "Empty DataFrame\n",
       "Columns: [Date, Open, High, Low, Close, Volume, Name]\n",
       "Index: []"
      ]
     },
     "execution_count": 26,
     "metadata": {},
     "output_type": "execute_result"
    }
   ],
   "source": [
    "df[df['Name'] != 'SBUX']"
   ]
  },
  {
   "cell_type": "code",
   "execution_count": 27,
   "id": "359a7bcf",
   "metadata": {},
   "outputs": [
    {
     "data": {
      "text/plain": [
       "pandas.core.series.Series"
      ]
     },
     "execution_count": 27,
     "metadata": {},
     "output_type": "execute_result"
    }
   ],
   "source": [
    "type(df['Name'] != 'SBUX')"
   ]
  },
  {
   "cell_type": "code",
   "execution_count": 28,
   "id": "a61afb75",
   "metadata": {},
   "outputs": [
    {
     "data": {
      "text/plain": [
       "array([0, 1, 2, 3, 4, 5, 6, 7, 8, 9])"
      ]
     },
     "execution_count": 28,
     "metadata": {},
     "output_type": "execute_result"
    }
   ],
   "source": [
    "import numpy as np\n",
    "A = np.arange(10)\n",
    "A"
   ]
  },
  {
   "cell_type": "code",
   "execution_count": 29,
   "id": "d3f70868",
   "metadata": {},
   "outputs": [
    {
     "data": {
      "text/plain": [
       "array([0, 2, 4, 6, 8])"
      ]
     },
     "execution_count": 29,
     "metadata": {},
     "output_type": "execute_result"
    }
   ],
   "source": [
    "A[A % 2 == 0]"
   ]
  },
  {
   "cell_type": "code",
   "execution_count": 30,
   "id": "46db63c0",
   "metadata": {},
   "outputs": [
    {
     "data": {
      "text/plain": [
       "array([['2013-02-08', 27.92, 28.325, ..., 28.185, 7146296, 'SBUX'],\n",
       "       ['2013-02-11', 28.26, 28.26, ..., 28.07, 5457354, 'SBUX'],\n",
       "       ['2013-02-12', 28.0, 28.275, ..., 28.13, 8665592, 'SBUX'],\n",
       "       ...,\n",
       "       ['2018-02-05', 55.53, 56.26, ..., 54.69, 16059955, 'SBUX'],\n",
       "       ['2018-02-06', 53.685, 56.06, ..., 55.61, 17415065, 'SBUX'],\n",
       "       ['2018-02-07', 55.08, 55.43, ..., 54.46, 13927022, 'SBUX']],\n",
       "      shape=(1259, 7), dtype=object)"
      ]
     },
     "execution_count": 30,
     "metadata": {},
     "output_type": "execute_result"
    }
   ],
   "source": [
    "df.values"
   ]
  },
  {
   "cell_type": "code",
   "execution_count": 32,
   "id": "71574395",
   "metadata": {},
   "outputs": [
    {
     "data": {
      "text/plain": [
       "array([[2.7920000e+01, 7.1462960e+06],\n",
       "       [2.8260000e+01, 5.4573540e+06],\n",
       "       [2.8000000e+01, 8.6655920e+06],\n",
       "       ...,\n",
       "       [5.5530000e+01, 1.6059955e+07],\n",
       "       [5.3685000e+01, 1.7415065e+07],\n",
       "       [5.5080000e+01, 1.3927022e+07]], shape=(1259, 2))"
      ]
     },
     "execution_count": 32,
     "metadata": {},
     "output_type": "execute_result"
    }
   ],
   "source": [
    "A = df[['Open', 'Volume']].values\n",
    "A"
   ]
  },
  {
   "cell_type": "code",
   "execution_count": 33,
   "id": "0fbe768f",
   "metadata": {},
   "outputs": [
    {
     "data": {
      "text/plain": [
       "numpy.ndarray"
      ]
     },
     "execution_count": 33,
     "metadata": {},
     "output_type": "execute_result"
    }
   ],
   "source": [
    "type(A)"
   ]
  },
  {
   "cell_type": "code",
   "execution_count": 35,
   "id": "abc2826a",
   "metadata": {},
   "outputs": [],
   "source": [
    "smalldf = df[['Open', 'Volume']]\n",
    "smalldf.to_csv('smalldf.csv')"
   ]
  },
  {
   "cell_type": "code",
   "execution_count": 36,
   "id": "bbb8295c",
   "metadata": {},
   "outputs": [
    {
     "name": "stdout",
     "output_type": "stream",
     "text": [
      ",Open,Volume\n",
      "0,27.92,7146296\n",
      "1,28.26,5457354\n",
      "2,28.0,8665592\n",
      "3,28.23,7022056\n",
      "4,27.765,8899188\n",
      "5,27.805,18195730\n",
      "6,27.18,11760912\n",
      "7,27.3,12472506\n",
      "8,26.535,13896450\n"
     ]
    }
   ],
   "source": [
    "!head smalldf.csv"
   ]
  },
  {
   "cell_type": "code",
   "execution_count": 37,
   "id": "13a58f8e",
   "metadata": {},
   "outputs": [],
   "source": [
    "smalldf.to_csv('smalldf.csv', index=False)"
   ]
  },
  {
   "cell_type": "code",
   "execution_count": 38,
   "id": "f80573e2",
   "metadata": {},
   "outputs": [
    {
     "name": "stdout",
     "output_type": "stream",
     "text": [
      "Open,Volume\n",
      "27.92,7146296\n",
      "28.26,5457354\n",
      "28.0,8665592\n",
      "28.23,7022056\n",
      "27.765,8899188\n",
      "27.805,18195730\n",
      "27.18,11760912\n",
      "27.3,12472506\n",
      "26.535,13896450\n"
     ]
    }
   ],
   "source": [
    "! head smalldf.csv"
   ]
  }
 ],
 "metadata": {
  "kernelspec": {
   "display_name": ".venv (3.13.3)",
   "language": "python",
   "name": "python3"
  },
  "language_info": {
   "codemirror_mode": {
    "name": "ipython",
    "version": 3
   },
   "file_extension": ".py",
   "mimetype": "text/x-python",
   "name": "python",
   "nbconvert_exporter": "python",
   "pygments_lexer": "ipython3",
   "version": "3.13.3"
  }
 },
 "nbformat": 4,
 "nbformat_minor": 5
}
