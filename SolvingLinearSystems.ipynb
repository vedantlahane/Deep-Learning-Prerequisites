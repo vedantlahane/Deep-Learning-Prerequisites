{
 "cells": [
  {
   "cell_type": "markdown",
   "id": "e20393cb",
   "metadata": {},
   "source": [
    "# Solving Linear Systems\n",
    "\n",
    ".\n",
    "In this lecture, we discuss a very common problem in science and engineering: solving linear systems.\n",
    "\n",
    ".\n",
    "## Motivating Example\n",
    "\n",
    ".\n",
    "The admission fee at a small fair is $1.50 for children and $4.00 for adults. On a certain day, 2200 people enter the fair and $5050 is collected. How many children and how many adults attended?\n",
    "\n",
    ".\n",
    "Let $x_1$ be the number of children and $x_2$ be the number of adults. Translating the word problem into math:\n",
    "\n",
    ".\n",
    "$$\\begin{align*}\n",
    "x_1 + x_2 &= 2200 \\\\\n",
    "1.5x_1 + 4x_2 &= 5050\n",
    "\\end{align*}$$\n",
    ".\n",
    "This is a system of two equations with two unknowns, which can be solved.\n",
    "\n",
    ".\n",
    "If we let $x$ be a vector containing $x_1$ and $x_2$, this becomes a matrix equality:\n",
    "\n",
    ".\n",
    "$$A \\mathbf{x} = \\mathbf{b}$$\n",
    ".\n",
    "where $A$ is the coefficient matrix and $\\mathbf{b}$ is the vector of constants.\n",
    "\n",
    ".\n",
    "## How to Solve in Code\n",
    "\n",
    ".\n",
    "Although mathematically you might write $\\mathbf{x} = A^{-1}\\mathbf{b}$, you should NOT compute the inverse directly in code. Computing the inverse is slower and less accurate than necessary.\n",
    "\n",
    ".\n",
    "Instead, use a dedicated linear system solver, which is both faster and more accurate. In NumPy, use `np.linalg.solve(A, b)` whenever you have an expression of the form $A^{-1}\\mathbf{b}$.\n",
    "\n",
    ".\n",
    "### Example in Code\n",
    "\n",
    ".\n",
    "```python\n",
    "import numpy as np\n",
    "A = np.array([[1, 1], [1.5, 4]])\n",
    "b = np.array([2200, 5050])\n",
    "x = np.linalg.solve(A, b)\n",
    "print(f\"Children: {x[0]}, Adults: {x[1]}\")\n",
    "```\n",
    ".\n",
    "This will output:\n",
    "- Children: 1500\n",
    "- Adults: 700\n",
    ".\n",
    "You may also try the 'bad way' using the matrix inverse:\n",
    "\n",
    ".\n",
    "```python\n",
    "x_bad = np.linalg.inv(A) @ b\n",
    "print(x_bad)\n",
    "```\n",
    ".\n",
    "This works for small problems, but for large systems (thousands of dimensions), you should definitely use `np.linalg.solve` for better performance and accuracy."
   ]
  },
  {
   "cell_type": "code",
   "execution_count": 1,
   "id": "7e0dc768",
   "metadata": {},
   "outputs": [],
   "source": [
    "import numpy as np"
   ]
  },
  {
   "cell_type": "code",
   "execution_count": 4,
   "id": "6517e02d",
   "metadata": {},
   "outputs": [],
   "source": [
    "A = np.array([[1, 1], [1.5, 4]])  # Example matrix\n",
    "B = np.array([2200, 5050])  # Example vector"
   ]
  },
  {
   "cell_type": "code",
   "execution_count": 5,
   "id": "b6403a30",
   "metadata": {},
   "outputs": [
    {
     "data": {
      "text/plain": [
       "array([1500.,  700.])"
      ]
     },
     "execution_count": 5,
     "metadata": {},
     "output_type": "execute_result"
    }
   ],
   "source": [
    "np.linalg.solve(A, B)  # This solves the linear system Ax = B, where A is the matrix and B is the vector. The result is the vector x that satisfies the equation."
   ]
  },
  {
   "cell_type": "code",
   "execution_count": null,
   "id": "458d684b",
   "metadata": {},
   "outputs": [
    {
     "data": {
      "text/plain": [
       "array([1500.,  700.])"
      ]
     },
     "execution_count": 6,
     "metadata": {},
     "output_type": "execute_result"
    }
   ],
   "source": [
    "np.linalg.inv(A).dot(B)  # This computes the solution by multiplying the inverse of A with B, which is another way to solve the linear system Ax = B. It should yield the same result as np.linalg.solve.\n",
    "\n",
    "#this is not correct way as it is not efficient and can lead to numerical instability for large matrices."
   ]
  },
  {
   "cell_type": "code",
   "execution_count": null,
   "id": "7aa2197b",
   "metadata": {},
   "outputs": [],
   "source": []
  }
 ],
 "metadata": {
  "kernelspec": {
   "display_name": ".venv (3.13.3)",
   "language": "python",
   "name": "python3"
  },
  "language_info": {
   "codemirror_mode": {
    "name": "ipython",
    "version": 3
   },
   "file_extension": ".py",
   "mimetype": "text/x-python",
   "name": "python",
   "nbconvert_exporter": "python",
   "pygments_lexer": "ipython3",
   "version": "3.13.3"
  }
 },
 "nbformat": 4,
 "nbformat_minor": 5
}
