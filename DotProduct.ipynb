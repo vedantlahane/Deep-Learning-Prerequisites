{
 "cells": [
  {
   "cell_type": "markdown",
   "id": "d28cb146",
   "metadata": {},
   "source": [
    "The Dot Product\n",
    "\n",
    "\n",
    "$$\\mathbf{a} \\cdot \\mathbf{b} = \\sum_{i=1}^{n} a_i b_i = a_1b_1 + a_2b_2 + \\dots + a_n b_n$$\n",
    "\n",
    "\n",
    "Or, for column vectors:\n",
    "$$\\mathbf{a} \\cdot \\mathbf{b} = \\mathbf{a}^T \\mathbf{b}$$"
   ]
  },
  {
   "cell_type": "code",
   "execution_count": 1,
   "id": "2475919a",
   "metadata": {},
   "outputs": [],
   "source": [
    "import numpy as np\n"
   ]
  },
  {
   "cell_type": "code",
   "execution_count": 5,
   "id": "a7d40155",
   "metadata": {},
   "outputs": [],
   "source": [
    "a  = np.array([1, 2])\n",
    "b  = np.array([3 ,4])"
   ]
  },
  {
   "cell_type": "code",
   "execution_count": null,
   "id": "d388193e",
   "metadata": {},
   "outputs": [
    {
     "name": "stdout",
     "output_type": "stream",
     "text": [
      "Dot product of [1 2] and [3 4] is 11\n"
     ]
    }
   ],
   "source": [
    "dot = 0\n",
    "for e , f in zip(a, b): # zip pairs elements from a and b, here we are using it to iterate through both arrays, e for a and f for b\n",
    "    dot += e * f\n",
    "\n",
    "print(f\"Dot product of {a} and {b} is {dot}\")"
   ]
  },
  {
   "cell_type": "code",
   "execution_count": null,
   "id": "4c14dc01",
   "metadata": {},
   "outputs": [
    {
     "name": "stdout",
     "output_type": "stream",
     "text": [
      "Dot product of [1 2] and [3 4] is 11\n"
     ]
    }
   ],
   "source": [
    "dot = 0\n",
    "for i in range(len(a)): # range is an iterable that generates numbers from 0 to len(a)-1, it is a keyword in python that generates a sequence of numbers, here it starts from 0 and goes up to the length of a minus one\n",
    "    dot += a[i] * b[i]\n",
    "print(f\"Dot product of {a} and {b} is {dot}\")"
   ]
  },
  {
   "cell_type": "code",
   "execution_count": 9,
   "id": "299b5818",
   "metadata": {},
   "outputs": [
    {
     "data": {
      "text/plain": [
       "array([3, 8])"
      ]
     },
     "execution_count": 9,
     "metadata": {},
     "output_type": "execute_result"
    }
   ],
   "source": [
    "a * b  # This is a vectorized operation, it multiplies each element of a with the corresponding element of b"
   ]
  },
  {
   "cell_type": "code",
   "execution_count": 12,
   "id": "00b877e5",
   "metadata": {},
   "outputs": [
    {
     "data": {
      "text/plain": [
       "np.int64(11)"
      ]
     },
     "execution_count": 12,
     "metadata": {},
     "output_type": "execute_result"
    }
   ],
   "source": [
    "np.sum(a * b)  # This is another way to compute the dot product using numpy's built-in function, it sums up the products of corresponding elements of a and b"
   ]
  },
  {
   "cell_type": "code",
   "execution_count": 13,
   "id": "82122513",
   "metadata": {},
   "outputs": [
    {
     "data": {
      "text/plain": [
       "np.int64(11)"
      ]
     },
     "execution_count": 13,
     "metadata": {},
     "output_type": "execute_result"
    }
   ],
   "source": [
    "(a * b).sum()  # This is equivalent to the previous line, using the sum method of the numpy array"
   ]
  },
  {
   "cell_type": "code",
   "execution_count": 14,
   "id": "9661f59c",
   "metadata": {},
   "outputs": [
    {
     "data": {
      "text/plain": [
       "np.int64(11)"
      ]
     },
     "execution_count": 14,
     "metadata": {},
     "output_type": "execute_result"
    }
   ],
   "source": [
    "np.dot(a, b)  # This is the most efficient way to compute the dot product using numpy's built-in function, it directly computes the dot product of two arrays"
   ]
  },
  {
   "cell_type": "code",
   "execution_count": 16,
   "id": "03db8694",
   "metadata": {},
   "outputs": [
    {
     "data": {
      "text/plain": [
       "np.int64(11)"
      ]
     },
     "execution_count": 16,
     "metadata": {},
     "output_type": "execute_result"
    }
   ],
   "source": [
    "a.dot(b)  # This is another way to compute the dot product using numpy's built-in method, it is equivalent to np.dot(a, b)"
   ]
  },
  {
   "cell_type": "code",
   "execution_count": 15,
   "id": "d177fce7",
   "metadata": {},
   "outputs": [
    {
     "data": {
      "text/plain": [
       "np.int64(11)"
      ]
     },
     "execution_count": 15,
     "metadata": {},
     "output_type": "execute_result"
    }
   ],
   "source": [
    "a @ b  # This is the most Pythonic way to compute the dot product, it uses the @ operator which is specifically designed for matrix multiplication and dot product in Python 3.5 and later\n",
    "# Note: The @ operator is equivalent to np.dot(a, b) and a.dot(b) in terms of functionality, but it is more readable and concise.\n",
    "# It is recommended to use the @ operator for dot product in Python 3.5 and later for better readability and clarity.\n",
    "# The @ operator is also supported by other libraries like TensorFlow and PyTorch, making it a versatile choice for dot product operations across different libraries."
   ]
  },
  {
   "cell_type": "markdown",
   "id": "3fd1c32a",
   "metadata": {},
   "source": [
    "Alternative definition of dot product\n",
    "\n",
    "In linear algebra and geometry, there is an alternative definition of the dot product:\n",
    "\n",
    "The dot product of two vectors $\\mathbf{a}$ and $\\mathbf{b}$ is equal to the magnitude of $\\mathbf{a}$ times the magnitude of $\\mathbf{b}$ times the cosine of the angle $\\theta$ between them:\n",
    "\n",
    "$$\\mathbf{a} \\cdot \\mathbf{b} = \\|\\mathbf{a}\\| \\|\\mathbf{b}\\| \\cos\\theta$$\n",
    "\n",
    "where:\n",
    "- $\\|\\mathbf{a}\\|$ is the magnitude (length) of vector $\\mathbf{a}$\n",
    "- $\\|\\mathbf{b}\\|$ is the magnitude (length) of vector $\\mathbf{b}$\n",
    "- $\\theta$ is the angle between $\\mathbf{a}$ and $\\mathbf{b}$\n",
    "\n",
    "Of course, we don't usually know the cosine of the angle between $\\mathbf{a}$ and $\\mathbf{b}$ directly, but we do know all the other values from which we can calculate it:\n",
    "\n",
    "$$\\cos\\theta = \\frac{\\mathbf{a} \\cdot \\mathbf{b}}{\\|\\mathbf{a}\\| \\|\\mathbf{b}\\|}$$\n",
    "\n",
    "The magnitude (length) of a vector $\\mathbf{a}$ is calculated as:\n",
    "\n",
    "$$\\|\\mathbf{a}\\| = \\sqrt{\\sum_{i=1}^{n} a_i^2}$$\n",
    "\n",
    "This formula gives the Euclidean norm of the vector."
   ]
  },
  {
   "cell_type": "code",
   "execution_count": 18,
   "id": "d19823b3",
   "metadata": {},
   "outputs": [
    {
     "data": {
      "text/plain": [
       "np.float64(2.23606797749979)"
      ]
     },
     "execution_count": 18,
     "metadata": {},
     "output_type": "execute_result"
    }
   ],
   "source": [
    "amag = np.sqrt((a * a).sum())  # This computes the magnitude of vector a, which is the square root of the sum of squares of its elements\n",
    "\n",
    "amag"
   ]
  },
  {
   "cell_type": "code",
   "execution_count": null,
   "id": "df5a9d73",
   "metadata": {},
   "outputs": [
    {
     "data": {
      "text/plain": [
       "np.float64(2.23606797749979)"
      ]
     },
     "execution_count": 19,
     "metadata": {},
     "output_type": "execute_result"
    }
   ],
   "source": [
    "np.linalg.norm(a)  # This computes the magnitude of vector a using numpy's built-in function, it is equivalent to the previous line but uses a more efficient algorithm\n",
    "\n",
    "#linalg is a module in numpy that provides functions for linear algebra operations, such as computing the norm of a vector, solving linear equations, and performing matrix decompositions."
   ]
  },
  {
   "cell_type": "code",
   "execution_count": 21,
   "id": "3b14ba24",
   "metadata": {},
   "outputs": [
    {
     "data": {
      "text/plain": [
       "np.float64(0.9838699100999074)"
      ]
     },
     "execution_count": 21,
     "metadata": {},
     "output_type": "execute_result"
    }
   ],
   "source": [
    "cosangle = a.dot(b) / (np.linalg.norm(a) * np.linalg.norm(b))  # This computes the cosine of the angle between vectors a and b using the dot product and magnitudes of a and b\n",
    "\n",
    "cosangle  # This will give you the cosine of the angle between vectors a and b, which is a value between -1 and 1"
   ]
  },
  {
   "cell_type": "code",
   "execution_count": null,
   "id": "bf011ccc",
   "metadata": {},
   "outputs": [
    {
     "data": {
      "text/plain": [
       "np.float64(0.17985349979247847)"
      ]
     },
     "execution_count": 23,
     "metadata": {},
     "output_type": "execute_result"
    }
   ],
   "source": [
    "angle = np.arccos(cosangle)  # This computes the angle in radians between vectors a and b using the arccosine function, which is the inverse of the cosine function\n",
    "\n",
    "angle "
   ]
  }
 ],
 "metadata": {
  "kernelspec": {
   "display_name": ".venv (3.13.3)",
   "language": "python",
   "name": "python3"
  },
  "language_info": {
   "codemirror_mode": {
    "name": "ipython",
    "version": 3
   },
   "file_extension": ".py",
   "mimetype": "text/x-python",
   "name": "python",
   "nbconvert_exporter": "python",
   "pygments_lexer": "ipython3",
   "version": "3.13.3"
  }
 },
 "nbformat": 4,
 "nbformat_minor": 5
}
