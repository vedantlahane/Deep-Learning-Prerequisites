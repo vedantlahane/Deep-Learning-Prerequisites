{
 "cells": [
  {
   "cell_type": "code",
   "execution_count": 1,
   "id": "e6f30af4",
   "metadata": {},
   "outputs": [],
   "source": [
    "import numpy as np"
   ]
  },
  {
   "cell_type": "code",
   "execution_count": 2,
   "id": "40410f08",
   "metadata": {},
   "outputs": [
    {
     "data": {
      "text/plain": [
       "[[1, 2], [3, 4]]"
      ]
     },
     "execution_count": 2,
     "metadata": {},
     "output_type": "execute_result"
    }
   ],
   "source": [
    "L = [[1,2],[3,4]] # This is a 2D list (matrix) in Python, where each inner list represents a row of the matrix.\n",
    "\n",
    "L"
   ]
  },
  {
   "cell_type": "code",
   "execution_count": 6,
   "id": "a3952199",
   "metadata": {},
   "outputs": [
    {
     "data": {
      "text/plain": [
       "[1, 2]"
      ]
     },
     "execution_count": 6,
     "metadata": {},
     "output_type": "execute_result"
    }
   ],
   "source": [
    "L[0] # This accesses the first row of the matrix, which is [1, 2]\n",
    "\n"
   ]
  },
  {
   "cell_type": "code",
   "execution_count": 7,
   "id": "64816d1d",
   "metadata": {},
   "outputs": [
    {
     "data": {
      "text/plain": [
       "[3, 4]"
      ]
     },
     "execution_count": 7,
     "metadata": {},
     "output_type": "execute_result"
    }
   ],
   "source": [
    "L[1] # This accesses the second row of the matrix, which is [3, 4]"
   ]
  },
  {
   "cell_type": "code",
   "execution_count": 8,
   "id": "2c055cd1",
   "metadata": {},
   "outputs": [
    {
     "data": {
      "text/plain": [
       "2"
      ]
     },
     "execution_count": 8,
     "metadata": {},
     "output_type": "execute_result"
    }
   ],
   "source": [
    "L[0][1] # This accesses the element in the first row and second column of the matrix, which is 2"
   ]
  },
  {
   "cell_type": "code",
   "execution_count": 10,
   "id": "86796e91",
   "metadata": {},
   "outputs": [
    {
     "data": {
      "text/plain": [
       "array([[1, 2],\n",
       "       [3, 4]])"
      ]
     },
     "execution_count": 10,
     "metadata": {},
     "output_type": "execute_result"
    }
   ],
   "source": [
    "A = np.array(L)  # This converts the 2D list into a NumPy array, which is a more efficient way to handle matrices in Python\n",
    "\n",
    "A"
   ]
  },
  {
   "cell_type": "code",
   "execution_count": 11,
   "id": "ab9e6ab1",
   "metadata": {},
   "outputs": [
    {
     "data": {
      "text/plain": [
       "np.int64(2)"
      ]
     },
     "execution_count": 11,
     "metadata": {},
     "output_type": "execute_result"
    }
   ],
   "source": [
    "A[0][1] # This accesses the element in the first row and second column of the NumPy array, which is 2"
   ]
  },
  {
   "cell_type": "code",
   "execution_count": 12,
   "id": "41c80ea3",
   "metadata": {},
   "outputs": [
    {
     "data": {
      "text/plain": [
       "np.int64(3)"
      ]
     },
     "execution_count": 12,
     "metadata": {},
     "output_type": "execute_result"
    }
   ],
   "source": [
    "A[1, 0] # This accesses the element in the second row and first column of the NumPy array, which is 3"
   ]
  },
  {
   "cell_type": "code",
   "execution_count": null,
   "id": "586d4040",
   "metadata": {},
   "outputs": [
    {
     "data": {
      "text/plain": [
       "array([1, 3])"
      ]
     },
     "execution_count": 13,
     "metadata": {},
     "output_type": "execute_result"
    }
   ],
   "source": [
    "A[:, 0] # This accesses all rows in the first column of the NumPy array, which is [1, 3], : means select everything in that dimentionm=, that is all rows in just in first column, defined by 0"
   ]
  },
  {
   "cell_type": "code",
   "execution_count": null,
   "id": "b9de8eca",
   "metadata": {},
   "outputs": [
    {
     "data": {
      "text/plain": [
       "array([[1, 3],\n",
       "       [2, 4]])"
      ]
     },
     "execution_count": 14,
     "metadata": {},
     "output_type": "execute_result"
    }
   ],
   "source": [
    "A.T # This transposes the matrix, swapping rows and columns, resulting in [[1, 3], [2, 4]]"
   ]
  },
  {
   "cell_type": "code",
   "execution_count": 15,
   "id": "cf1c4304",
   "metadata": {},
   "outputs": [
    {
     "data": {
      "text/plain": [
       "array([[ 2.71828183,  7.3890561 ],\n",
       "       [20.08553692, 54.59815003]])"
      ]
     },
     "execution_count": 15,
     "metadata": {},
     "output_type": "execute_result"
    }
   ],
   "source": [
    "np.exp(A) # This applies the exponential function to each element of the matrix, resulting in a new matrix with the same shape where each element is e raised to the power of the corresponding element in A"
   ]
  },
  {
   "cell_type": "code",
   "execution_count": 17,
   "id": "8370eb89",
   "metadata": {},
   "outputs": [
    {
     "data": {
      "text/plain": [
       "array([[ 2.71828183,  7.3890561 ],\n",
       "       [20.08553692, 54.59815003]])"
      ]
     },
     "execution_count": 17,
     "metadata": {},
     "output_type": "execute_result"
    }
   ],
   "source": [
    "np.exp(L) # This will not raise an error, as numpy already know what list represents and treat it as a numpy array, so it will apply the exponential function to each element of the matrix, resulting in a new matrix with the same shape where each element is e raised to the power of the corresponding element in L"
   ]
  },
  {
   "cell_type": "code",
   "execution_count": 18,
   "id": "357599a3",
   "metadata": {},
   "outputs": [
    {
     "data": {
      "text/plain": [
       "array([[1, 2, 3],\n",
       "       [4, 5, 6]])"
      ]
     },
     "execution_count": 18,
     "metadata": {},
     "output_type": "execute_result"
    }
   ],
   "source": [
    "B =  np.array([[1,2,3],[4,5,6]]) # This is a 2D list (matrix) in Python, where each inner list represents a row of the matrix.  \n",
    "\n",
    "B"
   ]
  },
  {
   "cell_type": "code",
   "execution_count": 19,
   "id": "99bb0e05",
   "metadata": {},
   "outputs": [
    {
     "data": {
      "text/plain": [
       "array([[ 9, 12, 15],\n",
       "       [19, 26, 33]])"
      ]
     },
     "execution_count": 19,
     "metadata": {},
     "output_type": "execute_result"
    }
   ],
   "source": [
    "A.dot(B) # This performs matrix multiplication between A and B, resulting in a new matrix where each element is the dot product of the corresponding row of A and column of B. The result will be a 2x3 matrix."
   ]
  },
  {
   "cell_type": "code",
   "execution_count": 20,
   "id": "d8101e50",
   "metadata": {},
   "outputs": [
    {
     "ename": "ValueError",
     "evalue": "shapes (2,2) and (3,2) not aligned: 2 (dim 1) != 3 (dim 0)",
     "output_type": "error",
     "traceback": [
      "\u001b[31m---------------------------------------------------------------------------\u001b[39m",
      "\u001b[31mValueError\u001b[39m                                Traceback (most recent call last)",
      "\u001b[36mCell\u001b[39m\u001b[36m \u001b[39m\u001b[32mIn[20]\u001b[39m\u001b[32m, line 1\u001b[39m\n\u001b[32m----> \u001b[39m\u001b[32m1\u001b[39m \u001b[43mA\u001b[49m\u001b[43m.\u001b[49m\u001b[43mdot\u001b[49m\u001b[43m(\u001b[49m\u001b[43mB\u001b[49m\u001b[43m.\u001b[49m\u001b[43mT\u001b[49m\u001b[43m)\u001b[49m\n",
      "\u001b[31mValueError\u001b[39m: shapes (2,2) and (3,2) not aligned: 2 (dim 1) != 3 (dim 0)"
     ]
    }
   ],
   "source": [
    "A.dot(B.T)"
   ]
  },
  {
   "cell_type": "code",
   "execution_count": 21,
   "id": "bddb032a",
   "metadata": {},
   "outputs": [
    {
     "ename": "ValueError",
     "evalue": "shapes (2,3) and (2,2) not aligned: 3 (dim 1) != 2 (dim 0)",
     "output_type": "error",
     "traceback": [
      "\u001b[31m---------------------------------------------------------------------------\u001b[39m",
      "\u001b[31mValueError\u001b[39m                                Traceback (most recent call last)",
      "\u001b[36mCell\u001b[39m\u001b[36m \u001b[39m\u001b[32mIn[21]\u001b[39m\u001b[32m, line 1\u001b[39m\n\u001b[32m----> \u001b[39m\u001b[32m1\u001b[39m \u001b[43mB\u001b[49m\u001b[43m.\u001b[49m\u001b[43mdot\u001b[49m\u001b[43m(\u001b[49m\u001b[43mA\u001b[49m\u001b[43m)\u001b[49m \u001b[38;5;66;03m# This will raise an error, as the dimensions of B and A are not compatible for matrix multiplication. B is a 2x3 matrix and A is a 2x2 matrix, so they cannot be multiplied directly.\u001b[39;00m\n",
      "\u001b[31mValueError\u001b[39m: shapes (2,3) and (2,2) not aligned: 3 (dim 1) != 2 (dim 0)"
     ]
    }
   ],
   "source": [
    "B.dot(A) # This will raise an error, as the dimensions of B and A are not compatible for matrix multiplication. B is a 2x3 matrix and A is a 2x2 matrix, so they cannot be multiplied directly."
   ]
  },
  {
   "cell_type": "code",
   "execution_count": 22,
   "id": "f04b14e7",
   "metadata": {},
   "outputs": [
    {
     "data": {
      "text/plain": [
       "np.float64(-2.0000000000000004)"
      ]
     },
     "execution_count": 22,
     "metadata": {},
     "output_type": "execute_result"
    }
   ],
   "source": [
    "np.linalg.det(A) # This computes the determinant of the matrix A, which is a scalar value that can be used to determine if the matrix is invertible (non-zero determinant means it is invertible)."
   ]
  },
  {
   "cell_type": "code",
   "execution_count": 23,
   "id": "95661338",
   "metadata": {},
   "outputs": [
    {
     "data": {
      "text/plain": [
       "array([[-2. ,  1. ],\n",
       "       [ 1.5, -0.5]])"
      ]
     },
     "execution_count": 23,
     "metadata": {},
     "output_type": "execute_result"
    }
   ],
   "source": [
    "np.linalg.inv(A) # This computes the inverse of the matrix A, which is a matrix that, when multiplied by A, results in the identity matrix. The inverse exists only if A is square and non-singular (i.e., its determinant is not zero)."
   ]
  },
  {
   "cell_type": "code",
   "execution_count": 25,
   "id": "744ac894",
   "metadata": {},
   "outputs": [
    {
     "data": {
      "text/plain": [
       "array([[1.00000000e+00, 0.00000000e+00],\n",
       "       [1.11022302e-16, 1.00000000e+00]])"
      ]
     },
     "execution_count": 25,
     "metadata": {},
     "output_type": "execute_result"
    }
   ],
   "source": [
    "np.linalg.inv(A).dot(A) # This computes the inverse of the matrix A and then multiplies it by A, resulting in the identity matrix. This is a way to verify that the inverse was computed correctly, as multiplying a matrix by its inverse should yield the identity matrix."
   ]
  },
  {
   "cell_type": "code",
   "execution_count": 26,
   "id": "4ae3e95b",
   "metadata": {},
   "outputs": [
    {
     "data": {
      "text/plain": [
       "np.int64(5)"
      ]
     },
     "execution_count": 26,
     "metadata": {},
     "output_type": "execute_result"
    }
   ],
   "source": [
    "np.trace(A) # This computes the trace of the matrix A, which is the sum of the diagonal elements. For A, it will be 1 + 4 = 5."
   ]
  },
  {
   "cell_type": "code",
   "execution_count": 27,
   "id": "4ce4cb1e",
   "metadata": {},
   "outputs": [
    {
     "data": {
      "text/plain": [
       "array([1, 4])"
      ]
     },
     "execution_count": 27,
     "metadata": {},
     "output_type": "execute_result"
    }
   ],
   "source": [
    "np.diag(A) # This extracts the diagonal elements of the matrix A, resulting in a 1D array containing the diagonal elements [1, 4]."
   ]
  },
  {
   "cell_type": "code",
   "execution_count": null,
   "id": "742a0d16",
   "metadata": {},
   "outputs": [
    {
     "data": {
      "text/plain": [
       "array([[1, 0],\n",
       "       [0, 2]])"
      ]
     },
     "execution_count": 28,
     "metadata": {},
     "output_type": "execute_result"
    }
   ],
   "source": [
    "np.diag([1,2]) # This creates a diagonal matrix with the elements 1 and 2 on the diagonal, resulting in a 2x2 matrix [[1, 0], [0, 2]]."
   ]
  },
  {
   "cell_type": "code",
   "execution_count": 31,
   "id": "649aeb11",
   "metadata": {},
   "outputs": [
    {
     "data": {
      "text/plain": [
       "EigResult(eigenvalues=array([-0.37228132,  5.37228132]), eigenvectors=array([[-0.82456484, -0.41597356],\n",
       "       [ 0.56576746, -0.90937671]]))"
      ]
     },
     "execution_count": 31,
     "metadata": {},
     "output_type": "execute_result"
    }
   ],
   "source": [
    "np.linalg.eig(A) # This computes the eigenvalues and eigenvectors of the matrix A. The eigenvalues are the scalars that indicate how much the eigenvectors are stretched or compressed during the linear transformation represented by A. The result will be a tuple containing an array of eigenvalues and a 2D array of eigenvectors."
   ]
  },
  {
   "cell_type": "code",
   "execution_count": 32,
   "metadata": {},
   "outputs": [],
   "source": [
    "Lam, V = np.linalg.eig(A) # This computes the eigenvalues and eigenvectors of the matrix A. The eigenvalues are stored in Lam and the eigenvectors are stored in V. The eigenvectors are the directions in which the matrix A stretches or compresses space, and the eigenvalues indicate how much stretching or compressing occurs along those directions."
   ]
  },
  {
   "cell_type": "code",
   "execution_count": null,
   "id": "57964d3c",
   "metadata": {},
   "outputs": [
    {
     "data": {
      "text/plain": [
       "array([ True, False])"
      ]
     },
     "execution_count": 33,
     "metadata": {},
     "output_type": "execute_result"
    }
   ],
   "source": [
    "V[:,0] * Lam[0] == A @ V[:,0] # This checks if the first eigenvector scaled by its corresponding eigenvalue is equal to the product of A and the first eigenvector. This is a property of eigenvectors and eigenvalues, where A applied to an eigenvector results in the eigenvector scaled by its eigenvalue.\n",
    "\n",
    "# this is not a correcct way as follow"
   ]
  },
  {
   "cell_type": "code",
   "execution_count": 34,
   "id": "e388b875",
   "metadata": {},
   "outputs": [
    {
     "data": {
      "text/plain": [
       "(array([ 0.30697009, -0.21062466]), array([ 0.30697009, -0.21062466]))"
      ]
     },
     "execution_count": 34,
     "metadata": {},
     "output_type": "execute_result"
    }
   ],
   "source": [
    "V[:,0] * Lam[0] , A @ V[:,0] # This shows the left-hand side (the first eigenvector scaled by its eigenvalue) and the right-hand side (the product of A and the first eigenvector) separately, which should be equal if the eigenvalue and eigenvector are correct. If they are not equal, it indicates a mistake in the computation or understanding of eigenvalues and eigenvectors."
   ]
  },
  {
   "cell_type": "code",
   "execution_count": null,
   "id": "1793a628",
   "metadata": {},
   "outputs": [
    {
     "data": {
      "text/plain": [
       "True"
      ]
     },
     "execution_count": 35,
     "metadata": {},
     "output_type": "execute_result"
    }
   ],
   "source": [
    "# Coorect way to check if the eigenvalue and eigenvector are correct is to use the following:\n",
    "\n",
    "np.allclose(V[:,0] * Lam[0], A @ V[:,0]) # This checks if the first eigenvector scaled by its corresponding eigenvalue is approximately equal to the product of A and the first eigenvector, allowing for numerical precision errors. If this returns True, it confirms that the eigenvalue and eigenvector are correct.\n",
    "\n"
   ]
  }
 ],
 "metadata": {
  "kernelspec": {
   "display_name": ".venv (3.13.3)",
   "language": "python",
   "name": "python3"
  },
  "language_info": {
   "codemirror_mode": {
    "name": "ipython",
    "version": 3
   },
   "file_extension": ".py",
   "mimetype": "text/x-python",
   "name": "python",
   "nbconvert_exporter": "python",
   "pygments_lexer": "ipython3",
   "version": "3.13.3"
  }
 },
 "nbformat": 4,
 "nbformat_minor": 5
}
