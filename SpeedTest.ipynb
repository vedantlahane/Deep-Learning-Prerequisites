{
 "cells": [
  {
   "cell_type": "markdown",
   "id": "9521c0db",
   "metadata": {},
   "source": [
    "This is to demonstrate how fast is numpy than regular pythin"
   ]
  },
  {
   "cell_type": "code",
   "execution_count": 8,
   "id": "7c5a3aaa",
   "metadata": {},
   "outputs": [
    {
     "name": "stdout",
     "output_type": "stream",
     "text": [
      "Time taken by slow_dot_product: 0:00:00.244940\n",
      "Time taken by numpy dot product: 0:00:00.008423\n",
      "Numpy is 29.079900273061853 times faster than the slow dot product implementation.\n"
     ]
    }
   ],
   "source": [
    "## Speed Comparison\n",
    "\n",
    "from datetime import datetime\n",
    "import numpy as np\n",
    "\n",
    "a = np.random.rand(100) # Generate a random vector of size 100\n",
    "b = np.random.rand(100) # Generate another random vector of size 100\n",
    "T = 10000 # Number of times to repeat the dot product operation\n",
    "\n",
    "def slow_dot_product(a, b):\n",
    "    result = 0\n",
    "    for i in range(len(a)):\n",
    "        result += a[i] * b[i]\n",
    "    return result\n",
    "\n",
    "t0 = datetime.now()\n",
    "\n",
    "for t in range(T):\n",
    "    slow_dot_product(a, b)\n",
    "dt1 = datetime.now() - t0\n",
    "\n",
    "t0 = datetime.now()\n",
    "for t in range(T):\n",
    "    np.dot(a, b)\n",
    "dt2 = datetime.now() - t0\n",
    "\n",
    "print(f\"Time taken by slow_dot_product: {dt1}\")\n",
    "print(f\"Time taken by numpy dot product: {dt2}\")\n",
    "print(f\"Numpy is {dt1.total_seconds() / dt2.total_seconds()} times faster than the slow dot product implementation.\")\n"
   ]
  }
 ],
 "metadata": {
  "kernelspec": {
   "display_name": ".venv (3.13.3)",
   "language": "python",
   "name": "python3"
  },
  "language_info": {
   "codemirror_mode": {
    "name": "ipython",
    "version": 3
   },
   "file_extension": ".py",
   "mimetype": "text/x-python",
   "name": "python",
   "nbconvert_exporter": "python",
   "pygments_lexer": "ipython3",
   "version": "3.13.3"
  }
 },
 "nbformat": 4,
 "nbformat_minor": 5
}
